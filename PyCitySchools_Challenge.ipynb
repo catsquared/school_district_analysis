{
 "cells": [
  {
   "cell_type": "code",
   "execution_count": null,
   "id": "97a9a7cb",
   "metadata": {},
   "outputs": [],
   "source": [
    "# Dependencies and Setup\n",
    "import pandas as pd\n",
    "\n",
    "# File to Load (Remember to change the path if needed.)\n",
    "school_data_to_load = \"Resources/schools_complete.csv\"\n",
    "student_data_to_load = \"Resources/students_complete.csv\"\n",
    "\n",
    "# Read the School Data and Student Data and store into a Pandas DataFrame\n",
    "school_data_df = pd.read_csv(school_data_to_load)\n",
    "student_data_df = pd.read_csv(student_data_to_load)\n",
    "\n",
    "# Cleaning Student Names and Replacing Substrings in a Python String\n",
    "# Add each prefix and suffix to remove to a list.\n",
    "prefixes_suffixes = [\"Dr. \", \"Mr. \",\"Ms. \", \"Mrs. \", \"Miss \", \" MD\", \" DDS\", \" DVM\", \" PhD\"]\n",
    "\n",
    "# Iterate through the words in the \"prefixes_suffixes\" list and replace them with an empty space, \"\".\n",
    "for word in prefixes_suffixes:\n",
    "    student_data_df[\"student_name\"] = student_data_df[\"student_name\"].str.replace(word,\"\")\n",
    "\n",
    "# Check names.\n",
    "student_data_df.head(10)"
   ]
  },
  {
   "cell_type": "markdown",
   "id": "b7b745cf",
   "metadata": {},
   "source": [
    "## Deliverable 1: Replace the reading and math scores.\n",
    "\n",
    "### Replace the 9th grade reading and math scores at Thomas High School with NaN."
   ]
  },
  {
   "cell_type": "code",
   "execution_count": null,
   "id": "dd2fab8a",
   "metadata": {},
   "outputs": [],
   "source": [
    "# Install numpy using conda install numpy or pip install numpy. \n",
    "# Step 1. Import numpy as np.\n",
    "import numpy as np"
   ]
  },
  {
   "cell_type": "code",
   "execution_count": null,
   "id": "8775afed",
   "metadata": {},
   "outputs": [],
   "source": [
    "# Step 2. Use the loc method on the student_data_df to select all the reading scores from the 9th grade at Thomas High School and replace them with NaN.\n",
    "student_data_df.loc[\n",
    "    (student_data_df['school_name'] == \"Thomas High School\") &\n",
    "    (student_data_df['grade'] == \"9th\"),\n",
    "    ['reading_score']\n",
    "] = np.nan\n",
    "student_data_df.tail(10)"
   ]
  },
  {
   "cell_type": "code",
   "execution_count": null,
   "id": "63f8f3b9",
   "metadata": {},
   "outputs": [],
   "source": [
    "#  Step 3. Refactor the code in Step 2 to replace the math scores with NaN.\n",
    "student_data_df.loc[\n",
    "    (student_data_df['school_name'] == \"Thomas High School\") &\n",
    "    (student_data_df['grade'] == \"9th\"),\n",
    "    ['math_score']\n",
    "] = np.nan\n",
    "student_data_df.tail(10)"
   ]
  },
  {
   "cell_type": "code",
   "execution_count": null,
   "id": "190720fe",
   "metadata": {},
   "outputs": [],
   "source": [
    "#  Step 4. Check the student data for NaN's. \n",
    "\n",
    "student_data_df.isnull().sum()"
   ]
  },
  {
   "cell_type": "markdown",
   "id": "b3cc3c75",
   "metadata": {},
   "source": [
    "## Deliverable 2 : Repeat the school district analysis"
   ]
  },
  {
   "cell_type": "markdown",
   "id": "c9cd7c99",
   "metadata": {},
   "source": [
    "### District Summary"
   ]
  },
  {
   "cell_type": "code",
   "execution_count": null,
   "id": "2b44ffaa",
   "metadata": {},
   "outputs": [],
   "source": [
    "# Combine the data into a single dataset\n",
    "school_data_complete_df = pd.merge(student_data_df, school_data_df, how=\"left\", on=[\"school_name\", \"school_name\"])\n",
    "school_data_complete_df.head()"
   ]
  },
  {
   "cell_type": "code",
   "execution_count": null,
   "id": "4d6bebeb",
   "metadata": {},
   "outputs": [],
   "source": [
    "# Calculate the Totals (Schools and Students)\n",
    "school_count = len(school_data_complete_df[\"school_name\"].unique())\n",
    "student_count = school_data_complete_df[\"Student ID\"].count()\n",
    "\n",
    "# Calculate the Total Budget\n",
    "total_budget = school_data_df[\"budget\"].sum()"
   ]
  },
  {
   "cell_type": "code",
   "execution_count": null,
   "id": "7a88b797",
   "metadata": {},
   "outputs": [],
   "source": [
    "# Calculate the Average Scores using the \"clean_student_data\".\n",
    "average_reading_score = school_data_complete_df[\"reading_score\"].mean()\n",
    "average_math_score = school_data_complete_df[\"math_score\"].mean()"
   ]
  },
  {
   "cell_type": "code",
   "execution_count": null,
   "id": "070b8129",
   "metadata": {},
   "outputs": [],
   "source": [
    "student_data_df"
   ]
  },
  {
   "cell_type": "code",
   "execution_count": null,
   "id": "c7ff7000",
   "metadata": {},
   "outputs": [],
   "source": [
    "# Step 1. Get the number of students that are in ninth grade at Thomas High School.\n",
    "# These students have no grades. \n",
    "thomas_9th_graders = student_data_df.loc[\n",
    "    (student_data_df['grade'] == '9th') &\n",
    "    (student_data_df['school_name'] == 'Thomas High School')\n",
    "].count()['Student ID']\n",
    "\n",
    "# Get the total student count \n",
    "student_count = school_data_complete_df[\"Student ID\"].count()\n",
    "\n",
    "\n",
    "# Step 2. Subtract the number of students that are in ninth grade at \n",
    "# Thomas High School from the total student count to get the new total student count.\n",
    "new_student_count = student_count - thomas_9th_graders\n",
    "new_student_count"
   ]
  },
  {
   "cell_type": "code",
   "execution_count": null,
   "id": "512e1355",
   "metadata": {},
   "outputs": [],
   "source": [
    "# Calculate the passing rates using the \"clean_student_data\".\n",
    "passing_math_count = school_data_complete_df[\n",
    "    (school_data_complete_df[\"math_score\"] >= 70)\n",
    "].count()[\"student_name\"]\n",
    "\n",
    "passing_reading_count = school_data_complete_df[\n",
    "    (school_data_complete_df[\"reading_score\"] >= 70)\n",
    "].count()[\"student_name\"]"
   ]
  },
  {
   "cell_type": "code",
   "execution_count": null,
   "id": "6cc85171",
   "metadata": {},
   "outputs": [],
   "source": [
    "# Step 3. Calculate the passing percentages with the new total student count.\n",
    "passing_math_percentage = passing_math_count / new_student_count * 100\n",
    "passing_reading_percentage = passing_reading_count / new_student_count * 100"
   ]
  },
  {
   "cell_type": "code",
   "execution_count": null,
   "id": "613ee356",
   "metadata": {},
   "outputs": [],
   "source": [
    "# Calculate the students who passed both reading and math.\n",
    "passing_math_reading = school_data_complete_df[\n",
    "    (school_data_complete_df[\"math_score\"] >= 70) &\n",
    "    (school_data_complete_df[\"reading_score\"] >= 70)\n",
    "]\n",
    "\n",
    "# Calculate the number of students that passed both reading and math.\n",
    "overall_passing_math_reading_count = passing_math_reading[\"student_name\"].count()\n",
    "\n",
    "\n",
    "# Step 4.Calculate the overall passing percentage with new total student count.\n",
    "overall_passing_percentage = overall_passing_math_reading_count / new_student_count * 100"
   ]
  },
  {
   "cell_type": "code",
   "execution_count": null,
   "id": "4373b6ea",
   "metadata": {},
   "outputs": [],
   "source": [
    "# Create a DataFrame\n",
    "district_summary_df = pd.DataFrame([\n",
    "    {\"Total Schools\": school_count,\n",
    "     \"Total Students\": student_count,\n",
    "     \"Total Budget\": total_budget,\n",
    "     \"Average Math Score\": average_math_score,\n",
    "     \"Average Reading Score\": average_reading_score,\n",
    "     \"% Passing Math\": passing_math_percentage,\n",
    "     \"% Passing Reading\": passing_reading_percentage,\n",
    "     \"% Overall Passing\": overall_passing_percentage\n",
    "    }\n",
    "])\n",
    "\n",
    "\n",
    "\n",
    "# Format the \"Total Students\" to have the comma for a thousands separator.\n",
    "district_summary_df[\"Total Students\"] = district_summary_df[\"Total Students\"].map(\"{:,}\".format)\n",
    "# Format the \"Total Budget\" to have the comma for a thousands separator, a decimal separator and a \"$\".\n",
    "district_summary_df[\"Total Budget\"] = district_summary_df[\"Total Budget\"].map(\"${:,.2f}\".format)\n",
    "# Format the columns.\n",
    "district_summary_df[\"Average Math Score\"] = district_summary_df[\"Average Math Score\"].map(\"{:.1f}\".format)\n",
    "district_summary_df[\"Average Reading Score\"] = district_summary_df[\"Average Reading Score\"].map(\"{:.1f}\".format)\n",
    "district_summary_df[\"% Passing Math\"] = district_summary_df[\"% Passing Math\"].map(\"{:.1f}\".format)\n",
    "district_summary_df[\"% Passing Reading\"] = district_summary_df[\"% Passing Reading\"].map(\"{:.1f}\".format)\n",
    "district_summary_df[\"% Overall Passing\"] = district_summary_df[\"% Overall Passing\"].map(\"{:.1f}\".format)\n",
    "\n",
    "# Display the data frame\n",
    "district_summary_df"
   ]
  },
  {
   "cell_type": "markdown",
   "id": "c0ae8fcf",
   "metadata": {},
   "source": [
    "##  School Summary"
   ]
  },
  {
   "cell_type": "code",
   "execution_count": null,
   "id": "baeda34b",
   "metadata": {},
   "outputs": [],
   "source": [
    "# Determine the School Type\n",
    "per_school_types = school_data_df.set_index([\"school_name\"])[\"type\"]\n",
    "\n",
    "# Calculate the total student count.\n",
    "per_school_counts = school_data_complete_df[\"school_name\"].value_counts()\n",
    "\n",
    "# Calculate the total school budget and per capita spending\n",
    "per_school_budget = school_data_complete_df.groupby([\"school_name\"]).mean()[\"budget\"]\n",
    "# Calculate the per capita spending.\n",
    "per_school_capita = per_school_budget / per_school_counts\n",
    "\n",
    "# Calculate the average test scores.\n",
    "per_school_math = school_data_complete_df.groupby([\"school_name\"]).mean()[\"math_score\"]\n",
    "per_school_reading = school_data_complete_df.groupby([\"school_name\"]).mean()[\"reading_score\"]\n",
    "\n",
    "# Calculate the passing scores by creating a filtered DataFrame.\n",
    "per_school_passing_math = school_data_complete_df[(school_data_complete_df[\"math_score\"] >= 70)]\n",
    "per_school_passing_reading = school_data_complete_df[(school_data_complete_df[\"reading_score\"] >= 70)]\n",
    "\n",
    "# Calculate the number of students passing math and passing reading by school.\n",
    "per_school_passing_math = per_school_passing_math.groupby([\"school_name\"]).count()[\"student_name\"]\n",
    "per_school_passing_reading = per_school_passing_reading.groupby([\"school_name\"]).count()[\"student_name\"]\n",
    "\n",
    "# Calculate the percentage of passing math and reading scores per school.\n",
    "per_school_passing_math = per_school_passing_math / per_school_counts * 100\n",
    "per_school_passing_reading = per_school_passing_reading / per_school_counts * 100\n",
    "\n",
    "# Calculate the students who passed both reading and math.\n",
    "per_passing_math_reading = school_data_complete_df[(school_data_complete_df[\"reading_score\"] >= 70)\n",
    "                                               & (school_data_complete_df[\"math_score\"] >= 70)]\n",
    "\n",
    "# Calculate the number of students passing math and passing reading by school.\n",
    "per_passing_math_reading = per_passing_math_reading.groupby([\"school_name\"]).count()[\"student_name\"]\n",
    "\n",
    "# Calculate the percentage of passing math and reading scores per school.\n",
    "per_overall_passing_percentage = per_passing_math_reading / per_school_counts * 100"
   ]
  },
  {
   "cell_type": "code",
   "execution_count": null,
   "id": "9d54ba45",
   "metadata": {},
   "outputs": [],
   "source": [
    "# Create the DataFrame\n",
    "per_school_summary_df = pd.DataFrame({\n",
    "    \"School Type\": per_school_types,\n",
    "    \"Total Students\": per_school_counts,\n",
    "    \"Total School Budget\": per_school_budget,\n",
    "    \"Per Student Budget\": per_school_capita,\n",
    "    \"Average Math Score\": per_school_math,\n",
    "    \"Average Reading Score\": per_school_reading,\n",
    "    \"% Passing Math\": per_school_passing_math,\n",
    "    \"% Passing Reading\": per_school_passing_reading,\n",
    "    \"% Overall Passing\": per_overall_passing_percentage})\n",
    "\n",
    "\n",
    "# per_school_summary_df.head()"
   ]
  },
  {
   "cell_type": "code",
   "execution_count": null,
   "id": "2474aeb9",
   "metadata": {},
   "outputs": [],
   "source": [
    "# Format the Total School Budget and the Per Student Budget\n",
    "per_school_summary_df[\"Total School Budget\"] = per_school_summary_df[\"Total School Budget\"].map(\"${:,.2f}\".format)\n",
    "per_school_summary_df[\"Per Student Budget\"] = per_school_summary_df[\"Per Student Budget\"].map(\"${:,.2f}\".format)\n",
    "\n",
    "# Display the data frame\n",
    "per_school_summary_df"
   ]
  },
  {
   "cell_type": "code",
   "execution_count": null,
   "id": "9e0bff32",
   "metadata": {},
   "outputs": [],
   "source": [
    "# Step 5.  Get the number of 10th-12th graders from Thomas High School (THS).\n",
    "thomas_10th_graders = student_data_df.loc[\n",
    "    (student_data_df['grade'] == '10th') &\n",
    "    (student_data_df['school_name'] == 'Thomas High School')\n",
    "].count()['Student ID']\n",
    "thomas_10th_graders"
   ]
  },
  {
   "cell_type": "code",
   "execution_count": null,
   "id": "6e0fd772",
   "metadata": {},
   "outputs": [],
   "source": [
    "thomas_11th_graders = student_data_df.loc[\n",
    "    (student_data_df['grade'] == '11th') &\n",
    "    (student_data_df['school_name'] == 'Thomas High School')\n",
    "].count()['Student ID']\n",
    "thomas_11th_graders"
   ]
  },
  {
   "cell_type": "code",
   "execution_count": null,
   "id": "dfa8adf0",
   "metadata": {},
   "outputs": [],
   "source": [
    "thomas_12th_graders = student_data_df.loc[\n",
    "    (student_data_df['grade'] == '12th') &\n",
    "    (student_data_df['school_name'] == 'Thomas High School')\n",
    "].count()['Student ID']\n",
    "thomas_12th_graders"
   ]
  },
  {
   "cell_type": "code",
   "execution_count": null,
   "id": "fe3d3e3e",
   "metadata": {},
   "outputs": [],
   "source": [
    "# Step 6. Get all the students passing math from THS\n",
    "thomas_passing_math = student_data_df.loc[\n",
    "    (student_data_df['math_score'] >= 70) &\n",
    "    (student_data_df['school_name'] == 'Thomas High School')\n",
    "]\n",
    "thomas_passing_math"
   ]
  },
  {
   "cell_type": "code",
   "execution_count": null,
   "id": "d0e674d4",
   "metadata": {},
   "outputs": [],
   "source": [
    "# Step 7. Get all the students passing reading from THS\n",
    "thomas_passing_reading = student_data_df.loc[\n",
    "    (student_data_df['reading_score'] >= 70) &\n",
    "    (student_data_df['school_name'] == 'Thomas High School')\n",
    "]\n",
    "thomas_passing_reading"
   ]
  },
  {
   "cell_type": "code",
   "execution_count": null,
   "id": "ebb9c52d",
   "metadata": {},
   "outputs": [],
   "source": [
    "# Step 8. Get all the students passing math and reading from THS\n",
    "thomas_passing_both = student_data_df.loc[\n",
    "    (student_data_df['math_score'] >= 70) &\n",
    "    (student_data_df['reading_score'] >= 70) &\n",
    "    (student_data_df['school_name'] == 'Thomas High School')\n",
    "]\n",
    "thomas_passing_both"
   ]
  },
  {
   "cell_type": "code",
   "execution_count": null,
   "id": "a9b879d3",
   "metadata": {},
   "outputs": [],
   "source": [
    "# Step 9. Calculate the percentage of 10th-12th grade students passing math from Thomas High School. \n",
    "\n",
    "# First get total number of students in Thomas Hight School from 10th-12th grade\n",
    "thomas_student_count = thomas_10th_graders + thomas_11th_graders + thomas_12th_graders\n",
    "\n",
    "thomas_math_pct = thomas_passing_math.count()['Student ID'] / thomas_student_count * 100\n",
    "thomas_math_pct"
   ]
  },
  {
   "cell_type": "code",
   "execution_count": null,
   "id": "e48a066e",
   "metadata": {},
   "outputs": [],
   "source": [
    "# Step 10. Calculate the percentage of 10th-12th grade students passing reading from Thomas High School.\n",
    "thomas_reading_pct = thomas_passing_reading.count()['Student ID'] / thomas_student_count * 100\n",
    "thomas_reading_pct"
   ]
  },
  {
   "cell_type": "code",
   "execution_count": null,
   "id": "3b1f3f9e",
   "metadata": {},
   "outputs": [],
   "source": [
    "# Step 11. Calculate the overall passing percentage of 10th-12th grade from Thomas High School. \n",
    "thomas_overall_pct = thomas_passing_both.count()['Student ID'] / thomas_student_count * 100\n",
    "thomas_overall_pct"
   ]
  },
  {
   "cell_type": "code",
   "execution_count": null,
   "id": "e33f8c40",
   "metadata": {},
   "outputs": [],
   "source": [
    "# Step 12. Replace the passing math percent for Thomas High School in the per_school_summary_df.\n",
    "per_school_summary_df.loc[['Thomas High School'],['% Passing Math']] = thomas_math_pct"
   ]
  },
  {
   "cell_type": "code",
   "execution_count": null,
   "id": "8faef489",
   "metadata": {},
   "outputs": [],
   "source": [
    "# Step 13. Replace the passing reading percentage for Thomas High School in the per_school_summary_df.\n",
    "per_school_summary_df.loc[['Thomas High School'],['% Passing Reading']] = thomas_reading_pct"
   ]
  },
  {
   "cell_type": "code",
   "execution_count": null,
   "id": "a8b1ba0e",
   "metadata": {},
   "outputs": [],
   "source": [
    "# Step 14. Replace the overall passing percentage for Thomas High School in the per_school_summary_df.\n",
    "per_school_summary_df.loc[['Thomas High School'],['% Overall Passing']] = thomas_overall_pct"
   ]
  },
  {
   "cell_type": "code",
   "execution_count": null,
   "id": "4448b259",
   "metadata": {},
   "outputs": [],
   "source": [
    "per_school_summary_df"
   ]
  },
  {
   "cell_type": "markdown",
   "id": "37c03e4a",
   "metadata": {},
   "source": [
    "## High and Low Performing Schools "
   ]
  },
  {
   "cell_type": "code",
   "execution_count": null,
   "id": "e866918b",
   "metadata": {
    "scrolled": true
   },
   "outputs": [],
   "source": [
    "# Sort and show top five schools.\n",
    "per_school_summary_df.sort_values(['% Overall Passing'], ascending = False).head()"
   ]
  },
  {
   "cell_type": "code",
   "execution_count": null,
   "id": "93c9243d",
   "metadata": {},
   "outputs": [],
   "source": [
    "# Sort and show bottom five schools.\n",
    "per_school_summary_df.sort_values(['% Overall Passing'], ascending = True).head()"
   ]
  },
  {
   "cell_type": "markdown",
   "id": "58c1833f",
   "metadata": {
    "collapsed": true
   },
   "source": [
    "## Math and Reading Scores by Grade"
   ]
  },
  {
   "cell_type": "code",
   "execution_count": null,
   "id": "0bd56344",
   "metadata": {},
   "outputs": [],
   "source": [
    "# Create a Series of scores by grade levels using conditionals.\n",
    "ninth_grade_df = school_data_complete_df[\n",
    "    (school_data_complete_df['grade'] == \"9th\")]\n",
    "\n",
    "tenth_grade_df = school_data_complete_df[\n",
    "    (school_data_complete_df['grade'] == \"10th\")]\n",
    "\n",
    "eleventh_grade_df = school_data_complete_df[\n",
    "    (school_data_complete_df['grade'] == \"11th\")]\n",
    "\n",
    "twelfth_grade_df = school_data_complete_df[\n",
    "    (school_data_complete_df['grade'] == \"12th\")]\n",
    "\n",
    "# Group each school Series by the school name for the average math score.\n",
    "ninth_math = ninth_grade_df.groupby(['school_name']).mean()['math_score']\n",
    "tenth_math = tenth_grade_df.groupby(['school_name']).mean()['math_score']\n",
    "eleventh_math = eleventh_grade_df.groupby(['school_name']).mean()['math_score']\n",
    "twelfth_math = twelfth_grade_df.groupby(['school_name']).mean()['math_score']\n",
    "\n",
    "\n",
    "# Group each school Series by the school name for the average reading score.\n",
    "ninth_reading = ninth_grade_df.groupby(['school_name']).mean()['reading_score']\n",
    "tenth_reading = tenth_grade_df.groupby(['school_name']).mean()['reading_score']\n",
    "eleventh_reading = eleventh_grade_df.groupby(['school_name']).mean()['reading_score']\n",
    "twelfth_reading = twelfth_grade_df.groupby(['school_name']).mean()['reading_score']\n"
   ]
  },
  {
   "cell_type": "code",
   "execution_count": null,
   "id": "17cdb617",
   "metadata": {},
   "outputs": [],
   "source": [
    "# Combine each Series for average math scores by school into single data frame.\n",
    "by_school_math = pd.DataFrame({\n",
    "    '9th Grade': ninth_math,\n",
    "    '10th Grade': tenth_math,\n",
    "    '11th Grade': eleventh_math,\n",
    "    '12th Grade': twelfth_math\n",
    "})"
   ]
  },
  {
   "cell_type": "code",
   "execution_count": null,
   "id": "3db0c884",
   "metadata": {},
   "outputs": [],
   "source": [
    "# Combine each Series for average reading scores by school into single data frame.\n",
    "by_school_reading = pd.DataFrame({\n",
    "    '9th Grade': ninth_reading,\n",
    "    '10th Grade': tenth_reading,\n",
    "    '11th Grade': eleventh_reading,\n",
    "    '12th Grade': twelfth_reading\n",
    "})"
   ]
  },
  {
   "cell_type": "code",
   "execution_count": null,
   "id": "fdee460b",
   "metadata": {},
   "outputs": [],
   "source": [
    "# Format each grade column.\n"
   ]
  },
  {
   "cell_type": "code",
   "execution_count": null,
   "id": "c13ff127",
   "metadata": {},
   "outputs": [],
   "source": [
    "# Remove the index.\n",
    "by_school_math.index.name = None\n",
    "\n",
    "\n",
    "# Display the data frame\n",
    "by_school_math"
   ]
  },
  {
   "cell_type": "code",
   "execution_count": null,
   "id": "572d1242",
   "metadata": {},
   "outputs": [],
   "source": [
    "## Remove the index.\n",
    "by_school_reading.index.name = None\n",
    "\n",
    "# Display the data frame\n",
    "by_school_reading"
   ]
  },
  {
   "cell_type": "markdown",
   "id": "b8859fc2",
   "metadata": {},
   "source": [
    "## Scores by School Spending"
   ]
  },
  {
   "cell_type": "code",
   "execution_count": null,
   "id": "b93d4101",
   "metadata": {},
   "outputs": [],
   "source": [
    "# Establish the spending bins and group names.\n",
    "spending_bins = [0, 585, 630, 645, 675]\n",
    "group_names = [\"<$584\", \"$585-$629\", \"$630-$644\", \"$645-$675\"]\n",
    "\n",
    "# Categorize spending based on the bins.\n"
   ]
  },
  {
   "cell_type": "code",
   "execution_count": null,
   "id": "37121c65",
   "metadata": {},
   "outputs": [],
   "source": [
    "# Add bin data to the per school summary\n",
    "per_school_summary_df.head()"
   ]
  },
  {
   "cell_type": "code",
   "execution_count": null,
   "id": "db2d866c",
   "metadata": {},
   "outputs": [],
   "source": [
    "per_school_summary_df['Spending Range Per Student'] = pd.cut(per_school_capita, spending_bins, labels = group_names)\n",
    "per_school_summary_df"
   ]
  },
  {
   "cell_type": "code",
   "execution_count": null,
   "id": "3259e058",
   "metadata": {},
   "outputs": [],
   "source": [
    "# Calculate averages for the desired columns. \n",
    "# Calculate averages for the desired columns.\n",
    "spending_math_scores = per_school_summary_df.groupby([\"Spending Range Per Student\"]).mean()[\"Average Math Score\"]\n",
    "\n",
    "spending_reading_scores = per_school_summary_df.groupby([\"Spending Range Per Student\"]).mean()[\"Average Reading Score\"]\n",
    "\n",
    "spending_passing_math = per_school_summary_df.groupby([\"Spending Range Per Student\"]).mean()[\"% Passing Math\"]\n",
    "\n",
    "spending_passing_reading = per_school_summary_df.groupby([\"Spending Range Per Student\"]).mean()[\"% Passing Reading\"]\n",
    "\n",
    "overall_passing_spending = per_school_summary_df.groupby([\"Spending Range Per Student\"]).mean()[\"% Overall Passing\"]"
   ]
  },
  {
   "cell_type": "code",
   "execution_count": null,
   "id": "1eb10f8e",
   "metadata": {},
   "outputs": [],
   "source": [
    "# Create the DataFrame\n",
    "# Assemble into DataFrame.\n",
    "spending_summary_df = pd.DataFrame({\n",
    "          \"Average Math Score\" : spending_math_scores,\n",
    "          \"Average Reading Score\": spending_reading_scores,\n",
    "          \"% Passing Math\": spending_passing_math,\n",
    "          \"% Passing Reading\": spending_passing_reading,\n",
    "          \"% Overall Passing\": overall_passing_spending})\n",
    "\n",
    "spending_summary_df"
   ]
  },
  {
   "cell_type": "code",
   "execution_count": null,
   "id": "b1ca734c",
   "metadata": {},
   "outputs": [],
   "source": [
    "# Format the DataFrame \n",
    "# Formatting\n",
    "spending_summary_df[\"Average Math Score\"] = spending_summary_df[\"Average Math Score\"].map(\"{:.1f}\".format)\n",
    "\n",
    "spending_summary_df[\"Average Reading Score\"] = spending_summary_df[\"Average Reading Score\"].map(\"{:.1f}\".format)\n",
    "\n",
    "spending_summary_df[\"% Passing Math\"] = spending_summary_df[\"% Passing Math\"].map(\"{:.0f}\".format)\n",
    "\n",
    "spending_summary_df[\"% Passing Reading\"] = spending_summary_df[\"% Passing Reading\"].map(\"{:.0f}\".format)\n",
    "\n",
    "spending_summary_df[\"% Overall Passing\"] = spending_summary_df[\"% Overall Passing\"].map(\"{:.0f}\".format)\n",
    "\n",
    "spending_summary_df"
   ]
  },
  {
   "cell_type": "markdown",
   "id": "19c42ea9",
   "metadata": {},
   "source": [
    "## Scores by School Size"
   ]
  },
  {
   "cell_type": "code",
   "execution_count": 64,
   "id": "948f4133",
   "metadata": {},
   "outputs": [],
   "source": [
    "# Establish the bins.\n",
    "# set bins to Small, Medium, Large\n",
    "size_bins = [0, 1000, 2000, 5000]\n",
    "# Set bin labels\n",
    "size_labels = ['< 1,000', '1,000-1,999', '2,000-5,000']\n",
    "# Categorize spending based on the bins.\n",
    "per_school_summary_df['Size Range'] = pd.cut(per_school_counts, size_bins, labels = size_labels)"
   ]
  },
  {
   "cell_type": "code",
   "execution_count": 66,
   "id": "5460947a",
   "metadata": {},
   "outputs": [],
   "source": [
    "# Calculate averages for the desired columns. \n",
    "# Calculate averages for the desired columns.\n",
    "size_math_scores = per_school_summary_df.groupby([\"Size Range\"]).mean()[\"Average Math Score\"]\n",
    "\n",
    "size_reading_scores = per_school_summary_df.groupby([\"Size Range\"]).mean()[\"Average Reading Score\"]\n",
    "\n",
    "size_passing_math = per_school_summary_df.groupby([\"Size Range\"]).mean()[\"% Passing Math\"]\n",
    "\n",
    "size_passing_reading = per_school_summary_df.groupby([\"Size Range\"]).mean()[\"% Passing Reading\"]\n",
    "\n",
    "overall_passing_size = per_school_summary_df.groupby([\"Size Range\"]).mean()[\"% Overall Passing\"]"
   ]
  },
  {
   "cell_type": "code",
   "execution_count": 68,
   "id": "4041b954",
   "metadata": {
    "scrolled": true
   },
   "outputs": [],
   "source": [
    "# Assemble into DataFrame. \n",
    "# Assemble into DataFrame.\n",
    "size_summary_df = pd.DataFrame({\n",
    "          \"Average Math Score\" : size_math_scores,\n",
    "          \"Average Reading Score\": size_reading_scores,\n",
    "          \"% Passing Math\": size_passing_math,\n",
    "          \"% Passing Reading\": size_passing_reading,\n",
    "          \"% Overall Passing\": overall_passing_size})"
   ]
  },
  {
   "cell_type": "code",
   "execution_count": 69,
   "id": "225837eb",
   "metadata": {},
   "outputs": [
    {
     "data": {
      "text/html": [
       "<div>\n",
       "<style scoped>\n",
       "    .dataframe tbody tr th:only-of-type {\n",
       "        vertical-align: middle;\n",
       "    }\n",
       "\n",
       "    .dataframe tbody tr th {\n",
       "        vertical-align: top;\n",
       "    }\n",
       "\n",
       "    .dataframe thead th {\n",
       "        text-align: right;\n",
       "    }\n",
       "</style>\n",
       "<table border=\"1\" class=\"dataframe\">\n",
       "  <thead>\n",
       "    <tr style=\"text-align: right;\">\n",
       "      <th></th>\n",
       "      <th>Average Math Score</th>\n",
       "      <th>Average Reading Score</th>\n",
       "      <th>% Passing Math</th>\n",
       "      <th>% Passing Reading</th>\n",
       "      <th>% Overall Passing</th>\n",
       "    </tr>\n",
       "    <tr>\n",
       "      <th>Size Range</th>\n",
       "      <th></th>\n",
       "      <th></th>\n",
       "      <th></th>\n",
       "      <th></th>\n",
       "      <th></th>\n",
       "    </tr>\n",
       "  </thead>\n",
       "  <tbody>\n",
       "    <tr>\n",
       "      <th>&lt; 1,000</th>\n",
       "      <td>83.8</td>\n",
       "      <td>83.9</td>\n",
       "      <td>94</td>\n",
       "      <td>96</td>\n",
       "      <td>90</td>\n",
       "    </tr>\n",
       "    <tr>\n",
       "      <th>1,000-1,999</th>\n",
       "      <td>83.4</td>\n",
       "      <td>83.9</td>\n",
       "      <td>94</td>\n",
       "      <td>97</td>\n",
       "      <td>91</td>\n",
       "    </tr>\n",
       "    <tr>\n",
       "      <th>2,000-5,000</th>\n",
       "      <td>77.7</td>\n",
       "      <td>81.3</td>\n",
       "      <td>70</td>\n",
       "      <td>83</td>\n",
       "      <td>58</td>\n",
       "    </tr>\n",
       "  </tbody>\n",
       "</table>\n",
       "</div>"
      ],
      "text/plain": [
       "            Average Math Score Average Reading Score % Passing Math  \\\n",
       "Size Range                                                            \n",
       "< 1,000                   83.8                  83.9             94   \n",
       "1,000-1,999               83.4                  83.9             94   \n",
       "2,000-5,000               77.7                  81.3             70   \n",
       "\n",
       "            % Passing Reading % Overall Passing  \n",
       "Size Range                                       \n",
       "< 1,000                    96                90  \n",
       "1,000-1,999                97                91  \n",
       "2,000-5,000                83                58  "
      ]
     },
     "execution_count": 69,
     "metadata": {},
     "output_type": "execute_result"
    }
   ],
   "source": [
    "# Format the DataFrame  \n",
    "# Formatting\n",
    "size_summary_df[\"Average Math Score\"] = size_summary_df[\"Average Math Score\"].map(\"{:.1f}\".format)\n",
    "\n",
    "size_summary_df[\"Average Reading Score\"] = size_summary_df[\"Average Reading Score\"].map(\"{:.1f}\".format)\n",
    "\n",
    "size_summary_df[\"% Passing Math\"] = size_summary_df[\"% Passing Math\"].map(\"{:.0f}\".format)\n",
    "\n",
    "size_summary_df[\"% Passing Reading\"] = size_summary_df[\"% Passing Reading\"].map(\"{:.0f}\".format)\n",
    "\n",
    "size_summary_df[\"% Overall Passing\"] = size_summary_df[\"% Overall Passing\"].map(\"{:.0f}\".format)\n",
    "\n",
    "size_summary_df"
   ]
  },
  {
   "cell_type": "markdown",
   "id": "7eb9131e",
   "metadata": {},
   "source": [
    "## Scores by School Type"
   ]
  },
  {
   "cell_type": "code",
   "execution_count": 70,
   "id": "a3c79cff",
   "metadata": {},
   "outputs": [
    {
     "data": {
      "text/html": [
       "<div>\n",
       "<style scoped>\n",
       "    .dataframe tbody tr th:only-of-type {\n",
       "        vertical-align: middle;\n",
       "    }\n",
       "\n",
       "    .dataframe tbody tr th {\n",
       "        vertical-align: top;\n",
       "    }\n",
       "\n",
       "    .dataframe thead th {\n",
       "        text-align: right;\n",
       "    }\n",
       "</style>\n",
       "<table border=\"1\" class=\"dataframe\">\n",
       "  <thead>\n",
       "    <tr style=\"text-align: right;\">\n",
       "      <th></th>\n",
       "      <th>Total Students</th>\n",
       "      <th>Average Math Score</th>\n",
       "      <th>Average Reading Score</th>\n",
       "      <th>% Passing Math</th>\n",
       "      <th>% Passing Reading</th>\n",
       "      <th>% Overall Passing</th>\n",
       "    </tr>\n",
       "    <tr>\n",
       "      <th>School Type</th>\n",
       "      <th></th>\n",
       "      <th></th>\n",
       "      <th></th>\n",
       "      <th></th>\n",
       "      <th></th>\n",
       "      <th></th>\n",
       "    </tr>\n",
       "  </thead>\n",
       "  <tbody>\n",
       "    <tr>\n",
       "      <th>Charter</th>\n",
       "      <td>1524.250000</td>\n",
       "      <td>83.465425</td>\n",
       "      <td>83.902315</td>\n",
       "      <td>93.610020</td>\n",
       "      <td>96.550223</td>\n",
       "      <td>90.392533</td>\n",
       "    </tr>\n",
       "    <tr>\n",
       "      <th>District</th>\n",
       "      <td>3853.714286</td>\n",
       "      <td>76.956733</td>\n",
       "      <td>80.966636</td>\n",
       "      <td>66.548453</td>\n",
       "      <td>80.799062</td>\n",
       "      <td>53.672208</td>\n",
       "    </tr>\n",
       "  </tbody>\n",
       "</table>\n",
       "</div>"
      ],
      "text/plain": [
       "             Total Students  Average Math Score  Average Reading Score  \\\n",
       "School Type                                                              \n",
       "Charter         1524.250000           83.465425              83.902315   \n",
       "District        3853.714286           76.956733              80.966636   \n",
       "\n",
       "             % Passing Math  % Passing Reading  % Overall Passing  \n",
       "School Type                                                        \n",
       "Charter           93.610020          96.550223          90.392533  \n",
       "District          66.548453          80.799062          53.672208  "
      ]
     },
     "execution_count": 70,
     "metadata": {},
     "output_type": "execute_result"
    }
   ],
   "source": [
    "# Calculate averages for the desired columns. \n",
    "# Create a new dataframe to hold the averages by school type\n",
    "type_summary_df = per_school_summary_df.groupby(['School Type']).mean()\n",
    "type_summary_df"
   ]
  },
  {
   "cell_type": "code",
   "execution_count": 71,
   "id": "56aa55d3",
   "metadata": {},
   "outputs": [],
   "source": [
    "# Assemble into DataFrame. \n"
   ]
  },
  {
   "cell_type": "code",
   "execution_count": 72,
   "id": "fe5d89de",
   "metadata": {},
   "outputs": [
    {
     "data": {
      "text/html": [
       "<div>\n",
       "<style scoped>\n",
       "    .dataframe tbody tr th:only-of-type {\n",
       "        vertical-align: middle;\n",
       "    }\n",
       "\n",
       "    .dataframe tbody tr th {\n",
       "        vertical-align: top;\n",
       "    }\n",
       "\n",
       "    .dataframe thead th {\n",
       "        text-align: right;\n",
       "    }\n",
       "</style>\n",
       "<table border=\"1\" class=\"dataframe\">\n",
       "  <thead>\n",
       "    <tr style=\"text-align: right;\">\n",
       "      <th></th>\n",
       "      <th>Total Students</th>\n",
       "      <th>Average Math Score</th>\n",
       "      <th>Average Reading Score</th>\n",
       "      <th>% Passing Math</th>\n",
       "      <th>% Passing Reading</th>\n",
       "      <th>% Overall Passing</th>\n",
       "    </tr>\n",
       "    <tr>\n",
       "      <th>School Type</th>\n",
       "      <th></th>\n",
       "      <th></th>\n",
       "      <th></th>\n",
       "      <th></th>\n",
       "      <th></th>\n",
       "      <th></th>\n",
       "    </tr>\n",
       "  </thead>\n",
       "  <tbody>\n",
       "    <tr>\n",
       "      <th>Charter</th>\n",
       "      <td>1524.250000</td>\n",
       "      <td>83.5</td>\n",
       "      <td>83.9</td>\n",
       "      <td>94</td>\n",
       "      <td>97</td>\n",
       "      <td>90</td>\n",
       "    </tr>\n",
       "    <tr>\n",
       "      <th>District</th>\n",
       "      <td>3853.714286</td>\n",
       "      <td>77.0</td>\n",
       "      <td>81.0</td>\n",
       "      <td>67</td>\n",
       "      <td>81</td>\n",
       "      <td>54</td>\n",
       "    </tr>\n",
       "  </tbody>\n",
       "</table>\n",
       "</div>"
      ],
      "text/plain": [
       "             Total Students Average Math Score Average Reading Score  \\\n",
       "School Type                                                            \n",
       "Charter         1524.250000               83.5                  83.9   \n",
       "District        3853.714286               77.0                  81.0   \n",
       "\n",
       "            % Passing Math % Passing Reading % Overall Passing  \n",
       "School Type                                                     \n",
       "Charter                 94                97                90  \n",
       "District                67                81                54  "
      ]
     },
     "execution_count": 72,
     "metadata": {},
     "output_type": "execute_result"
    }
   ],
   "source": [
    "# # Format the DataFrame \n",
    "# Add Formatting\n",
    "# Formatting\n",
    "type_summary_df[\"Average Math Score\"] = type_summary_df[\"Average Math Score\"].map(\"{:.1f}\".format)\n",
    "\n",
    "type_summary_df[\"Average Reading Score\"] = type_summary_df[\"Average Reading Score\"].map(\"{:.1f}\".format)\n",
    "\n",
    "type_summary_df[\"% Passing Math\"] = type_summary_df[\"% Passing Math\"].map(\"{:.0f}\".format)\n",
    "\n",
    "type_summary_df[\"% Passing Reading\"] = type_summary_df[\"% Passing Reading\"].map(\"{:.0f}\".format)\n",
    "\n",
    "type_summary_df[\"% Overall Passing\"] = type_summary_df[\"% Overall Passing\"].map(\"{:.0f}\".format)\n",
    "\n",
    "type_summary_df\n"
   ]
  },
  {
   "cell_type": "code",
   "execution_count": null,
   "id": "e0faf030",
   "metadata": {},
   "outputs": [],
   "source": []
  },
  {
   "cell_type": "markdown",
   "id": "d4d0f1de",
   "metadata": {},
   "source": [
    "## Analysis including Thomas High School 9th Grade Scores"
   ]
  },
  {
   "cell_type": "code",
   "execution_count": null,
   "id": "5a22cafe",
   "metadata": {},
   "outputs": [],
   "source": [
    "# Add the Pandas dependency\n",
    "import pandas as pd"
   ]
  },
  {
   "cell_type": "code",
   "execution_count": null,
   "id": "a9e39dac",
   "metadata": {},
   "outputs": [],
   "source": [
    "# Files to load\n",
    "schools_file = \"Resources/schools_complete.csv\"\n",
    "students_file = \"Resources/students_complete.csv\""
   ]
  },
  {
   "cell_type": "code",
   "execution_count": null,
   "id": "4c04ac5e",
   "metadata": {},
   "outputs": [],
   "source": [
    "# Read the school data file and store it in a Pandas DataFrame\n",
    "school_data_df = pd.read_csv(schools_file)\n",
    "school_data_df.head()"
   ]
  },
  {
   "cell_type": "code",
   "execution_count": null,
   "id": "c767099a",
   "metadata": {},
   "outputs": [],
   "source": [
    "# Read the students data file and store it in a Pandas DataFrame\n",
    "student_data_df = pd.read_csv(students_file)\n",
    "student_data_df.head()"
   ]
  },
  {
   "cell_type": "code",
   "execution_count": null,
   "id": "8e37c9c5",
   "metadata": {},
   "outputs": [],
   "source": [
    "# Determine if there are any missing values in the school data\n",
    "school_data_df.count()"
   ]
  },
  {
   "cell_type": "code",
   "execution_count": null,
   "id": "29bd702e",
   "metadata": {},
   "outputs": [],
   "source": [
    "# Determine if there are any missing values in the student data\n",
    "student_data_df.count()"
   ]
  },
  {
   "cell_type": "code",
   "execution_count": null,
   "id": "435a39de",
   "metadata": {},
   "outputs": [],
   "source": [
    "# Determine if there are any missing values in the school data\n",
    "school_data_df.isnull()"
   ]
  },
  {
   "cell_type": "code",
   "execution_count": null,
   "id": "95b5d4ae",
   "metadata": {},
   "outputs": [],
   "source": [
    "# Determine if there are any missing values in the student data\n",
    "student_data_df.isnull().sum()"
   ]
  },
  {
   "cell_type": "code",
   "execution_count": null,
   "id": "7407bebd",
   "metadata": {},
   "outputs": [],
   "source": [
    "# Determine if there are *not* any missing values in the school data\n",
    "school_data_df.notnull()"
   ]
  },
  {
   "cell_type": "code",
   "execution_count": null,
   "id": "d33b7f81",
   "metadata": {},
   "outputs": [],
   "source": [
    "# Determine if there are *not* any missing values in the student data\n",
    "student_data_df.notnull().sum()"
   ]
  },
  {
   "cell_type": "code",
   "execution_count": null,
   "id": "08db9f97",
   "metadata": {},
   "outputs": [],
   "source": [
    "# Determine the data type of each column in school_data_df\n",
    "school_data_df.dtypes"
   ]
  },
  {
   "cell_type": "code",
   "execution_count": null,
   "id": "7a0c5240",
   "metadata": {},
   "outputs": [],
   "source": [
    "# Find the data type for the column budget only\n",
    "school_data_df.budget.dtype\n",
    "school_data_df[\"budget\"].dtype"
   ]
  },
  {
   "cell_type": "code",
   "execution_count": null,
   "id": "c1bfa3a5",
   "metadata": {},
   "outputs": [],
   "source": [
    "# Determine the data type of each column in student_data_df\n",
    "student_data_df.dtypes"
   ]
  },
  {
   "cell_type": "code",
   "execution_count": null,
   "id": "0167b8e6",
   "metadata": {},
   "outputs": [],
   "source": [
    "# Use results from cleaning_student_names.ipynb to clean the data\n",
    "# Define the list of prefixes and suffixes to replace\n",
    "prefix_suffix = ['Dr. ', 'Miss ', 'Mr. ', 'Mrs. ', 'Ms. ', ' DDS', ' DVM', ' MD', ' PhD']\n",
    "for ps in prefix_suffix:\n",
    "    student_data_df.student_name = student_data_df.student_name.str.replace(ps,'')"
   ]
  },
  {
   "cell_type": "code",
   "execution_count": null,
   "id": "fb8553ea",
   "metadata": {},
   "outputs": [],
   "source": [
    "# Define a new DataFrame by merging the two datasets\n",
    "school_data_complete_df = pd.merge(\n",
    "    student_data_df,\n",
    "    school_data_df,\n",
    "    on=[\"school_name\", \"school_name\"]\n",
    ")\n",
    "school_data_complete_df.head()"
   ]
  },
  {
   "cell_type": "code",
   "execution_count": null,
   "id": "82f9d369",
   "metadata": {},
   "outputs": [],
   "source": [
    "# Check the count of each column\n",
    "student_count = school_data_complete_df.count()\n",
    "student_count"
   ]
  },
  {
   "cell_type": "code",
   "execution_count": null,
   "id": "f8399b68",
   "metadata": {},
   "outputs": [],
   "source": [
    "# Define the number of students\n",
    "student_count = school_data_complete_df['Student ID'].count()\n",
    "student_count"
   ]
  },
  {
   "cell_type": "code",
   "execution_count": null,
   "id": "c42eb29c",
   "metadata": {},
   "outputs": [],
   "source": [
    "# Get the total number of schools\n",
    "school_count = school_data_complete_df.school_name.unique()\n",
    "school_count = len(school_count)\n",
    "school_count"
   ]
  },
  {
   "cell_type": "code",
   "execution_count": null,
   "id": "2dc0b3e7",
   "metadata": {},
   "outputs": [],
   "source": [
    "# Get the total budget of the school district\n",
    "district_budget = school_data_df.budget.sum()\n",
    "district_budget"
   ]
  },
  {
   "cell_type": "code",
   "execution_count": null,
   "id": "2425d3b9",
   "metadata": {},
   "outputs": [],
   "source": [
    "# Get the average scores for reading and math\n",
    "reading_avg = school_data_complete_df.reading_score.mean()\n",
    "reading_avg"
   ]
  },
  {
   "cell_type": "code",
   "execution_count": null,
   "id": "109bba99",
   "metadata": {},
   "outputs": [],
   "source": [
    "# Get the average scores for reading and math\n",
    "math_avg = school_data_complete_df.math_score.mean()\n",
    "math_avg"
   ]
  },
  {
   "cell_type": "code",
   "execution_count": null,
   "id": "301ace12",
   "metadata": {},
   "outputs": [],
   "source": [
    "# Determine passing percentages in reading, math, and overall\n",
    "# Passing score is 70\n",
    "passing_score = 70\n",
    "\n",
    "# New dataframe where math score is greater or equal to passing_score\n",
    "# Returns a list of boolean values\n",
    "passing_math = school_data_complete_df.math_score >= passing_score\n",
    "passing_reading = school_data_complete_df.reading_score >= passing_score"
   ]
  },
  {
   "cell_type": "code",
   "execution_count": null,
   "id": "8af93d50",
   "metadata": {},
   "outputs": [],
   "source": [
    "# Get the number of students who passed math\n",
    "passing_math_total = passing_math.sum()\n",
    "passing_math_total"
   ]
  },
  {
   "cell_type": "code",
   "execution_count": null,
   "id": "0337a87f",
   "metadata": {},
   "outputs": [],
   "source": [
    "# Get the number of students who pass reading\n",
    "passing_reading_total = passing_reading.sum()\n",
    "passing_reading_total"
   ]
  },
  {
   "cell_type": "code",
   "execution_count": null,
   "id": "b872fe60",
   "metadata": {},
   "outputs": [],
   "source": [
    "# To filter the dataframe based on the passing score\n",
    "passing_math_df = school_data_complete_df[school_data_complete_df.math_score >= passing_score]\n",
    "passing_math_df.count()"
   ]
  },
  {
   "cell_type": "code",
   "execution_count": null,
   "id": "26f98671",
   "metadata": {},
   "outputs": [],
   "source": [
    "# To filter the dataframe based on the passing score\n",
    "passing_reading_df = school_data_complete_df[school_data_complete_df.reading_score >= passing_score]\n",
    "passing_reading_df.count()"
   ]
  },
  {
   "cell_type": "code",
   "execution_count": null,
   "id": "9c7ee7fc",
   "metadata": {},
   "outputs": [],
   "source": [
    "# Get the Percentages of students who passed math and reading respectively\n",
    "math_pct = passing_math_total / student_count * 100\n",
    "reading_pct = passing_reading_total / student_count * 100\n",
    "print(f\"The pct of students who passed math is {math_pct:.2f}%\")\n",
    "print(f\"The pct of students who passed reading is {reading_pct:.2f}%\")"
   ]
  },
  {
   "cell_type": "code",
   "execution_count": null,
   "id": "82c98886",
   "metadata": {},
   "outputs": [],
   "source": [
    "# Get the dataframe of students who passed both math and reading\n",
    "passing_both_df = school_data_complete_df[\n",
    "    (school_data_complete_df.math_score >= passing_score) &\n",
    "    (school_data_complete_df.reading_score >= passing_score)\n",
    "]\n",
    "passing_both_df.head()"
   ]
  },
  {
   "cell_type": "code",
   "execution_count": null,
   "id": "337a3c1b",
   "metadata": {},
   "outputs": [],
   "source": [
    "# Get the total number of students who passed both math and reading\n",
    "passing_both_total = passing_both_df.student_name.count()\n",
    "passing_both_total"
   ]
  },
  {
   "cell_type": "code",
   "execution_count": null,
   "id": "2ebdd171",
   "metadata": {},
   "outputs": [],
   "source": [
    "# Get the percentage of students who passed both math and reading\n",
    "both_pct = passing_both_total / student_count * 100\n",
    "print(f\"The pct of students who passed both math and reading is {both_pct:.2f}%\")"
   ]
  },
  {
   "cell_type": "code",
   "execution_count": null,
   "id": "61e6f7a5",
   "metadata": {},
   "outputs": [],
   "source": [
    "# Add summary statistics into one dataframe\n",
    "district_summary_df = pd.DataFrame(\n",
    "    [\n",
    "        {\n",
    "            \"Total Schools\": school_count,\n",
    "            \"Total Students\": student_count,\n",
    "            \"Total Budget\": district_budget,\n",
    "            \"Average Math Score\": math_avg,\n",
    "            \"Average Reading Score\": reading_avg,\n",
    "            \"% Passing Math\": math_pct,\n",
    "            \"% Passing Reading\": reading_pct,\n",
    "            \"% Overall Passing\": both_pct\n",
    "        }\n",
    "    ]\n",
    ")\n",
    "district_summary_df"
   ]
  },
  {
   "cell_type": "code",
   "execution_count": null,
   "id": "fab36c29",
   "metadata": {},
   "outputs": [],
   "source": [
    "# Format the \"Total Students\" to have the comma for a thousands separator.\n",
    "district_summary_df[\"Total Students\"] = district_summary_df[\"Total Students\"].map(\"{:,}\".format)\n",
    "\n",
    "district_summary_df[\"Total Students\"]"
   ]
  },
  {
   "cell_type": "code",
   "execution_count": null,
   "id": "12441ee8",
   "metadata": {},
   "outputs": [],
   "source": [
    "# Format the \"Total Budget\" to have the comma for a thousands separator and dollar sign\n",
    "district_summary_df[\"Total Budget\"] = district_summary_df[\"Total Budget\"].map(\"${:,.2f}\".format)\n",
    "\n",
    "district_summary_df[\"Total Budget\"]"
   ]
  },
  {
   "cell_type": "code",
   "execution_count": null,
   "id": "b2f99fcc",
   "metadata": {},
   "outputs": [],
   "source": [
    "# Format the average scores to 1 decimal\n",
    "# .. and pct passing to the nearest whole number\n",
    "district_summary_df[\"Average Math Score\"] = district_summary_df[\"Average Math Score\"].map(\"{:.1f}\".format)\n",
    "\n",
    "district_summary_df[\"Average Math Score\"]"
   ]
  },
  {
   "cell_type": "code",
   "execution_count": null,
   "id": "7e93fade",
   "metadata": {},
   "outputs": [],
   "source": [
    "# Format the average scores to 1 decimal\n",
    "# .. and pct passing to the nearest whole number\n",
    "district_summary_df[\"Average Reading Score\"] = district_summary_df[\"Average Reading Score\"].map(\"{:.1f}\".format)\n",
    "\n",
    "district_summary_df[\"Average Reading Score\"]"
   ]
  },
  {
   "cell_type": "code",
   "execution_count": null,
   "id": "1caa8af5",
   "metadata": {},
   "outputs": [],
   "source": [
    "# Format the average scores to 1 decimal\n",
    "# .. and pct passing to the nearest whole number\n",
    "district_summary_df[\"% Passing Math\"] = district_summary_df[\"% Passing Math\"].map(\"{:.0f}\".format)\n",
    "\n",
    "district_summary_df[\"% Passing Math\"]"
   ]
  },
  {
   "cell_type": "code",
   "execution_count": null,
   "id": "29a4a2b5",
   "metadata": {},
   "outputs": [],
   "source": [
    "# Format the average scores to 1 decimal\n",
    "# .. and pct passing to the nearest whole number\n",
    "district_summary_df[\"% Passing Reading\"] = district_summary_df[\"% Passing Reading\"].map(\"{:.0f}\".format)\n",
    "\n",
    "district_summary_df[\"% Passing Reading\"]"
   ]
  },
  {
   "cell_type": "code",
   "execution_count": null,
   "id": "1e306f8b",
   "metadata": {},
   "outputs": [],
   "source": [
    "# Format the average scores to 1 decimal\n",
    "# .. and pct passing to the nearest whole number\n",
    "district_summary_df[\"% Overall Passing\"] = district_summary_df[\"% Overall Passing\"].map(\"{:.0f}\".format)\n",
    "\n",
    "district_summary_df[\"% Overall Passing\"]"
   ]
  },
  {
   "cell_type": "code",
   "execution_count": null,
   "id": "09154c71",
   "metadata": {},
   "outputs": [],
   "source": [
    "# Check on the updated dataframe with formatting\n",
    "district_summary_df"
   ]
  },
  {
   "cell_type": "code",
   "execution_count": null,
   "id": "90382939",
   "metadata": {},
   "outputs": [],
   "source": [
    "# Create a new DataFrame to hold the school names\n",
    "# Use the existing school_data_df\n",
    "per_school_types = school_data_df.set_index(['school_name'])['type']\n",
    "per_school_types"
   ]
  },
  {
   "cell_type": "code",
   "execution_count": null,
   "id": "4a09106d",
   "metadata": {},
   "outputs": [],
   "source": [
    "# Convert the Series into a DataFrame\n",
    "per_school_df = pd.DataFrame(per_school_types)\n",
    "per_school_df"
   ]
  },
  {
   "cell_type": "code",
   "execution_count": null,
   "id": "ea0150b0",
   "metadata": {},
   "outputs": [],
   "source": [
    "# Get a new series with index as school name, and values as school size\n",
    "per_school_size = school_data_df.set_index(['school_name'])['size']\n",
    "per_school_size"
   ]
  },
  {
   "cell_type": "code",
   "execution_count": null,
   "id": "07628309",
   "metadata": {},
   "outputs": [],
   "source": [
    "# Get a new series with index as school name, and\n",
    "# .. values as number of students from the test results df school_data_complete_df\n",
    "\n",
    "per_school_counts = school_data_complete_df['school_name'].value_counts()\n",
    "per_school_counts\n"
   ]
  },
  {
   "cell_type": "code",
   "execution_count": null,
   "id": "130c3400",
   "metadata": {},
   "outputs": [],
   "source": [
    "sum(per_school_size)"
   ]
  },
  {
   "cell_type": "code",
   "execution_count": null,
   "id": "c019eb9e",
   "metadata": {},
   "outputs": [],
   "source": [
    "sum(per_school_counts)"
   ]
  },
  {
   "cell_type": "code",
   "execution_count": null,
   "id": "631ae642",
   "metadata": {},
   "outputs": [],
   "source": [
    "# Both methods gets the same number of students\n",
    "\n",
    "# Add the budget per student per each school\n",
    "per_school_budget = school_data_df.set_index(['school_name'])['budget']\n",
    "per_school_budget"
   ]
  },
  {
   "cell_type": "code",
   "execution_count": null,
   "id": "133aeb84",
   "metadata": {},
   "outputs": [],
   "source": [
    "# Calculate the per student spending\n",
    "budget_per_student = per_school_budget / per_school_counts\n",
    "budget_per_student"
   ]
  },
  {
   "cell_type": "code",
   "execution_count": null,
   "id": "d45c9290",
   "metadata": {},
   "outputs": [],
   "source": [
    "# First get a list of math scores with the school as the index\n",
    "student_school_math = student_data_df.set_index(['school_name'])['math_score']\n",
    "student_school_math"
   ]
  },
  {
   "cell_type": "code",
   "execution_count": null,
   "id": "d37dc740",
   "metadata": {},
   "outputs": [],
   "source": [
    "# Calculate the average of each column in school_data_complete_df\n",
    "per_school_averages = school_data_complete_df.groupby(\n",
    "    ['school_name']\n",
    ").mean()\n",
    "per_school_averages"
   ]
  },
  {
   "cell_type": "code",
   "execution_count": null,
   "id": "fbbbf637",
   "metadata": {},
   "outputs": [],
   "source": [
    "# Use the averages dataframe and only get math and reading scores\n",
    "per_school_math = per_school_averages['math_score']\n",
    "per_school_math"
   ]
  },
  {
   "cell_type": "code",
   "execution_count": null,
   "id": "f29aca89",
   "metadata": {},
   "outputs": [],
   "source": [
    "per_school_reading = per_school_averages['reading_score']\n",
    "per_school_reading"
   ]
  },
  {
   "cell_type": "code",
   "execution_count": null,
   "id": "3e78d5a0",
   "metadata": {},
   "outputs": [],
   "source": [
    "# Calculate the passing scores by creating a filtered DataFrame\n",
    "per_school_passing_math = school_data_complete_df[\n",
    "    (school_data_complete_df['math_score'] >= passing_score)]\n",
    "per_school_passing_math"
   ]
  },
  {
   "cell_type": "code",
   "execution_count": null,
   "id": "ef52cbd2",
   "metadata": {},
   "outputs": [],
   "source": [
    "per_school_passing_reading = school_data_complete_df[\n",
    "    (school_data_complete_df['reading_score'] >= passing_score)\n",
    "]\n",
    "per_school_passing_reading"
   ]
  },
  {
   "cell_type": "code",
   "execution_count": null,
   "id": "de92c48e",
   "metadata": {},
   "outputs": [],
   "source": [
    "# Group the passing math results by school\n",
    "per_school_passing_math = per_school_passing_math.groupby(\n",
    "    ['school_name']).count()['student_name']\n",
    "per_school_passing_math"
   ]
  },
  {
   "cell_type": "code",
   "execution_count": null,
   "id": "db87f9a0",
   "metadata": {},
   "outputs": [],
   "source": [
    "# Group the passing reading results by school\n",
    "per_school_passing_reading = per_school_passing_reading.groupby(\n",
    "    ['school_name']).count()['student_name']\n",
    "per_school_passing_reading"
   ]
  },
  {
   "cell_type": "code",
   "execution_count": null,
   "id": "78d9b738",
   "metadata": {},
   "outputs": [],
   "source": [
    "# Calculate the pct of passing math and reading scores\n",
    "per_school_passing_math = per_school_passing_math / per_school_counts * 100\n",
    "per_school_passing_math"
   ]
  },
  {
   "cell_type": "code",
   "execution_count": null,
   "id": "48501cad",
   "metadata": {},
   "outputs": [],
   "source": [
    "# Calculate the pct of passing math and reading scores\n",
    "per_school_passing_reading = per_school_passing_reading / per_school_counts *100\n",
    "per_school_passing_reading"
   ]
  },
  {
   "cell_type": "code",
   "execution_count": null,
   "id": "c2a3395b",
   "metadata": {},
   "outputs": [],
   "source": [
    "# Get students who passed both math and reading\n",
    "per_school_passing_both = school_data_complete_df[\n",
    "    (school_data_complete_df['math_score'] >= passing_score) &\n",
    "    (school_data_complete_df['reading_score'] >= passing_score)\n",
    "]\n",
    "per_school_passing_both"
   ]
  },
  {
   "cell_type": "code",
   "execution_count": null,
   "id": "b65bb6cc",
   "metadata": {},
   "outputs": [],
   "source": [
    "# Group by school\n",
    "per_school_passing_both = per_school_passing_both.groupby(\n",
    "    ['school_name']).count()['student_name']\n",
    "per_school_passing_both"
   ]
  },
  {
   "cell_type": "code",
   "execution_count": null,
   "id": "903f9027",
   "metadata": {},
   "outputs": [],
   "source": [
    "# Get the pct for each school for students who passed both\n",
    "per_school_passing_both = per_school_passing_both / per_school_counts * 100\n",
    "per_school_passing_both"
   ]
  },
  {
   "cell_type": "code",
   "execution_count": null,
   "id": "f2cc40f9",
   "metadata": {},
   "outputs": [],
   "source": [
    "# Combine data into one dataframe\n",
    "per_school_df = pd.DataFrame({\n",
    "    'School Type': per_school_types,\n",
    "    'Total Students': per_school_counts,\n",
    "    'Total School Budget': per_school_budget,\n",
    "    'Per Student Budget': budget_per_student,\n",
    "    'Average Math Score': per_school_math,\n",
    "    'Average Reading Score': per_school_reading,\n",
    "    '% Passing Math': per_school_passing_math,\n",
    "    '% Passing Reading': per_school_passing_reading,\n",
    "    '% Overall Passing': per_school_passing_both\n",
    "})\n",
    "per_school_df.head()"
   ]
  },
  {
   "cell_type": "code",
   "execution_count": null,
   "id": "dc638742",
   "metadata": {},
   "outputs": [],
   "source": [
    "# Format the Total School Budget and Per Student Budget columns\n",
    "per_school_df['Total School Budget'] = per_school_df[\n",
    "    'Total School Budget'].map(\"${:,.2f}\".format)"
   ]
  },
  {
   "cell_type": "code",
   "execution_count": null,
   "id": "6ebc5afe",
   "metadata": {},
   "outputs": [],
   "source": [
    "per_school_df['Per Student Budget'] = per_school_df[\n",
    "    'Per Student Budget'].map(\"${:,.2f}\".format)"
   ]
  },
  {
   "cell_type": "code",
   "execution_count": null,
   "id": "4eff253c",
   "metadata": {},
   "outputs": [],
   "source": [
    "# Check out the formatting done so far\n",
    "per_school_df.head()"
   ]
  },
  {
   "cell_type": "code",
   "execution_count": null,
   "id": "64e82b6e",
   "metadata": {},
   "outputs": [],
   "source": [
    "# Sort the dataframe based on % Overall Passing\n",
    "per_school_df = per_school_df.sort_values(['% Overall Passing'], ascending = False)"
   ]
  },
  {
   "cell_type": "code",
   "execution_count": null,
   "id": "298e1a1d",
   "metadata": {},
   "outputs": [],
   "source": [
    "# Display the new dataframe\n",
    "per_school_df"
   ]
  },
  {
   "cell_type": "code",
   "execution_count": null,
   "id": "ec9ae3ae",
   "metadata": {},
   "outputs": [],
   "source": [
    "# After sorting, the top five schools are the head() and bottom five schools are the tail()\n",
    "top_five_schools = per_school_df.head()\n",
    "bottom_five_schools = per_school_df.tail()"
   ]
  },
  {
   "cell_type": "code",
   "execution_count": null,
   "id": "d51e2d93",
   "metadata": {},
   "outputs": [],
   "source": [
    "# Sort the bottom five schools in ascending order\n",
    "bottom_five_schools = bottom_five_schools.sort_values(['% Overall Passing'], ascending = True)"
   ]
  },
  {
   "cell_type": "code",
   "execution_count": null,
   "id": "1ccff574",
   "metadata": {},
   "outputs": [],
   "source": [
    "# Work on grouping the average math and reading scores by school, by grade\n",
    "# The index will be the school_name\n",
    "school_data_complete_df.head()"
   ]
  },
  {
   "cell_type": "code",
   "execution_count": null,
   "id": "96476e12",
   "metadata": {},
   "outputs": [],
   "source": [
    "# Filter for the ninth grade first\n",
    "ninth_grade_df = school_data_complete_df[\n",
    "    (school_data_complete_df['grade'] == \"9th\")]\n",
    "ninth_grade_df.head()"
   ]
  },
  {
   "cell_type": "code",
   "execution_count": null,
   "id": "1f13fb45",
   "metadata": {},
   "outputs": [],
   "source": [
    "# Do the same for the other grades\n",
    "\n",
    "tenth_grade_df = school_data_complete_df[\n",
    "    (school_data_complete_df['grade'] == \"10th\")]\n",
    "tenth_grade_df.head()\n",
    "\n"
   ]
  },
  {
   "cell_type": "code",
   "execution_count": null,
   "id": "01637459",
   "metadata": {},
   "outputs": [],
   "source": [
    "eleventh_grade_df = school_data_complete_df[\n",
    "    (school_data_complete_df['grade'] == \"11th\")]\n",
    "eleventh_grade_df.head()\n",
    "\n"
   ]
  },
  {
   "cell_type": "code",
   "execution_count": null,
   "id": "8b66f52a",
   "metadata": {},
   "outputs": [],
   "source": [
    "twelfth_grade_df = school_data_complete_df[\n",
    "    (school_data_complete_df['grade'] == \"12th\")]\n",
    "twelfth_grade_df.head()"
   ]
  },
  {
   "cell_type": "code",
   "execution_count": null,
   "id": "f7eeca51",
   "metadata": {},
   "outputs": [],
   "source": [
    "# Get the average math scores for each grade, grouped by school\n",
    "ninth_grade_math = ninth_grade_df.groupby(['school_name']).mean()['math_score']\n",
    "ninth_grade_math"
   ]
  },
  {
   "cell_type": "code",
   "execution_count": null,
   "id": "830a5a27",
   "metadata": {},
   "outputs": [],
   "source": [
    "tenth_grade_math = tenth_grade_df.groupby(['school_name']).mean()['math_score']\n",
    "tenth_grade_math"
   ]
  },
  {
   "cell_type": "code",
   "execution_count": null,
   "id": "f287aef5",
   "metadata": {},
   "outputs": [],
   "source": [
    "eleventh_grade_math = eleventh_grade_df.groupby(['school_name']).mean()['math_score']\n",
    "eleventh_grade_math"
   ]
  },
  {
   "cell_type": "code",
   "execution_count": null,
   "id": "76bcef40",
   "metadata": {},
   "outputs": [],
   "source": [
    "twelfth_grade_math = twelfth_grade_df.groupby(['school_name']).mean()['math_score']\n",
    "twelfth_grade_math"
   ]
  },
  {
   "cell_type": "code",
   "execution_count": null,
   "id": "a5079bfe",
   "metadata": {},
   "outputs": [],
   "source": [
    "# Get the average reading scores for each grade, grouped by school\n",
    "ninth_grade_reading = ninth_grade_df.groupby(['school_name']).mean()['reading_score']\n",
    "tenth_grade_reading = tenth_grade_df.groupby(['school_name']).mean()['reading_score']\n",
    "eleventh_grade_reading = eleventh_grade_df.groupby(['school_name']).mean()['reading_score']\n",
    "twelfth_grade_reading = twelfth_grade_df.groupby(['school_name']).mean()['reading_score']"
   ]
  },
  {
   "cell_type": "code",
   "execution_count": null,
   "id": "f7a0ba84",
   "metadata": {},
   "outputs": [],
   "source": [
    "twelfth_grade_reading"
   ]
  },
  {
   "cell_type": "code",
   "execution_count": null,
   "id": "e811f7d4",
   "metadata": {},
   "outputs": [],
   "source": [
    "# Combine the series into one dataframe for math scores\n",
    "school_grade_math = pd.DataFrame({\n",
    "    '9th': ninth_grade_math,\n",
    "    '10th': tenth_grade_math,\n",
    "    '11th': eleventh_grade_math,\n",
    "    '12th': twelfth_grade_math\n",
    "})\n",
    "school_grade_math"
   ]
  },
  {
   "cell_type": "code",
   "execution_count": null,
   "id": "bc731e64",
   "metadata": {},
   "outputs": [],
   "source": [
    "# Combine the series into one dataframe for reading scores\n",
    "school_grade_reading = pd.DataFrame({\n",
    "    '9th': ninth_grade_reading,\n",
    "    '10th': tenth_grade_reading,\n",
    "    '11th': eleventh_grade_reading,\n",
    "    '12th': twelfth_grade_reading\n",
    "})\n",
    "school_grade_reading"
   ]
  },
  {
   "cell_type": "code",
   "execution_count": null,
   "id": "aed5e524",
   "metadata": {},
   "outputs": [],
   "source": [
    "# Format each of the reading and math average by school dataframes\n",
    "school_grade_math[\"9th\"] = school_grade_math[\"9th\"].map(\"{:.1f}\".format)"
   ]
  },
  {
   "cell_type": "code",
   "execution_count": null,
   "id": "74202880",
   "metadata": {},
   "outputs": [],
   "source": [
    "school_grade_math"
   ]
  },
  {
   "cell_type": "code",
   "execution_count": null,
   "id": "40f210a2",
   "metadata": {},
   "outputs": [],
   "source": [
    "school_grade_math[\"10th\"] = school_grade_math[\"10th\"].map(\"{:.1f}\".format)\n",
    "school_grade_math[\"11th\"] = school_grade_math[\"11th\"].map(\"{:.1f}\".format)\n",
    "school_grade_math[\"12th\"] = school_grade_math[\"12th\"].map(\"{:.1f}\".format)"
   ]
  },
  {
   "cell_type": "code",
   "execution_count": null,
   "id": "3cf54eff",
   "metadata": {},
   "outputs": [],
   "source": [
    "school_grade_reading[\"9th\"] = school_grade_reading[\"9th\"].map(\"{:.1f}\".format)\n",
    "school_grade_reading[\"10th\"] = school_grade_reading[\"10th\"].map(\"{:.1f}\".format)\n",
    "school_grade_reading[\"11th\"] = school_grade_reading[\"11th\"].map(\"{:.1f}\".format)\n",
    "school_grade_reading[\"12th\"] = school_grade_reading[\"12th\"].map(\"{:.1f}\".format)"
   ]
  },
  {
   "cell_type": "code",
   "execution_count": null,
   "id": "8115489f",
   "metadata": {},
   "outputs": [],
   "source": [
    "# Remove the index name for both dataframes\n",
    "school_grade_math.index.name = None\n",
    "school_grade_reading.index.name = None"
   ]
  },
  {
   "cell_type": "code",
   "execution_count": null,
   "id": "b0ee0cff",
   "metadata": {},
   "outputs": [],
   "source": [
    "# Explore relationship between school budget and student performance\n",
    "budget_per_student"
   ]
  },
  {
   "cell_type": "code",
   "execution_count": null,
   "id": "b288b40c",
   "metadata": {},
   "outputs": [],
   "source": [
    "# Group the budget per student into bins\n",
    "budget_per_student.describe()"
   ]
  },
  {
   "cell_type": "code",
   "execution_count": null,
   "id": "12d9b9d7",
   "metadata": {},
   "outputs": [],
   "source": [
    "# Increase the bins by roughly the standard deviation, starting with a bin that captures more than one school\n",
    "spending_bins = [0, 585, 585+30, 585+30*2, 585+30*3]\n",
    "spending_bins"
   ]
  },
  {
   "cell_type": "code",
   "execution_count": null,
   "id": "2524f5b9",
   "metadata": {},
   "outputs": [],
   "source": [
    "# Use the cut() function to split the data into the determined bins\n",
    "# Group by the bins, and count the number of schools in each bin\n",
    "budget_per_student.groupby(pd.cut(budget_per_student, spending_bins)).count()"
   ]
  },
  {
   "cell_type": "code",
   "execution_count": null,
   "id": "b87c867f",
   "metadata": {},
   "outputs": [],
   "source": [
    "# Regroup the bins so the number of schools in each bin is closer"
   ]
  },
  {
   "cell_type": "code",
   "execution_count": null,
   "id": "afbe5b39",
   "metadata": {},
   "outputs": [],
   "source": [
    "spending_bins = [0, 585, 630, 645, 675]\n",
    "budget_per_student.groupby(pd.cut(budget_per_student, spending_bins)).count()"
   ]
  },
  {
   "cell_type": "code",
   "execution_count": null,
   "id": "6f6dd512",
   "metadata": {},
   "outputs": [],
   "source": [
    "# Define the name of groups\n",
    "group_names = ['<$584', '$585-$629', '$630-$644', '$645-$675']"
   ]
  },
  {
   "cell_type": "code",
   "execution_count": null,
   "id": "2f6c8277",
   "metadata": {},
   "outputs": [],
   "source": [
    "# Add bin data to the per school summary\n",
    "per_school_df.head()"
   ]
  },
  {
   "cell_type": "code",
   "execution_count": null,
   "id": "950c3b3b",
   "metadata": {},
   "outputs": [],
   "source": [
    "per_school_df['Spending Range Per Student'] = pd.cut(budget_per_student, spending_bins, labels = group_names)\n",
    "per_school_df"
   ]
  },
  {
   "cell_type": "code",
   "execution_count": null,
   "id": "1bb7028f",
   "metadata": {},
   "outputs": [],
   "source": [
    "# Get the average for each group for math, reading, pct passing path, pct passing reading, and overall passing pct"
   ]
  },
  {
   "cell_type": "code",
   "execution_count": null,
   "id": "583fd24e",
   "metadata": {},
   "outputs": [],
   "source": [
    "# Calculate averages for the desired columns.\n",
    "spending_math_scores = per_school_df.groupby([\"Spending Range Per Student\"]).mean()[\"Average Math Score\"]\n",
    "\n",
    "spending_reading_scores = per_school_df.groupby([\"Spending Range Per Student\"]).mean()[\"Average Reading Score\"]\n",
    "\n",
    "spending_passing_math = per_school_df.groupby([\"Spending Range Per Student\"]).mean()[\"% Passing Math\"]\n",
    "\n",
    "spending_passing_reading = per_school_df.groupby([\"Spending Range Per Student\"]).mean()[\"% Passing Reading\"]\n",
    "\n",
    "overall_passing_spending = per_school_df.groupby([\"Spending Range Per Student\"]).mean()[\"% Overall Passing\"]"
   ]
  },
  {
   "cell_type": "code",
   "execution_count": null,
   "id": "924565c1",
   "metadata": {},
   "outputs": [],
   "source": [
    "overall_passing_spending"
   ]
  },
  {
   "cell_type": "code",
   "execution_count": null,
   "id": "7a87dde4",
   "metadata": {},
   "outputs": [],
   "source": [
    "(spending_passing_math + spending_passing_reading)/2"
   ]
  },
  {
   "cell_type": "code",
   "execution_count": null,
   "id": "be1c249c",
   "metadata": {},
   "outputs": [],
   "source": [
    "# Assemble into DataFrame.\n",
    "spending_summary_df = pd.DataFrame({\n",
    "          \"Average Math Score\" : spending_math_scores,\n",
    "          \"Average Reading Score\": spending_reading_scores,\n",
    "          \"% Passing Math\": spending_passing_math,\n",
    "          \"% Passing Reading\": spending_passing_reading,\n",
    "          \"% Overall Passing\": overall_passing_spending})\n",
    "\n",
    "spending_summary_df"
   ]
  },
  {
   "cell_type": "code",
   "execution_count": null,
   "id": "38c0d365",
   "metadata": {},
   "outputs": [],
   "source": [
    "# Formatting\n",
    "spending_summary_df[\"Average Math Score\"] = spending_summary_df[\"Average Math Score\"].map(\"{:.1f}\".format)\n",
    "\n",
    "spending_summary_df[\"Average Reading Score\"] = spending_summary_df[\"Average Reading Score\"].map(\"{:.1f}\".format)\n",
    "\n",
    "spending_summary_df[\"% Passing Math\"] = spending_summary_df[\"% Passing Math\"].map(\"{:.0f}\".format)\n",
    "\n",
    "spending_summary_df[\"% Passing Reading\"] = spending_summary_df[\"% Passing Reading\"].map(\"{:.0f}\".format)\n",
    "\n",
    "spending_summary_df[\"% Overall Passing\"] = spending_summary_df[\"% Overall Passing\"].map(\"{:.0f}\".format)\n",
    "\n",
    "spending_summary_df"
   ]
  },
  {
   "cell_type": "code",
   "execution_count": null,
   "id": "c7fa904e",
   "metadata": {},
   "outputs": [],
   "source": [
    "# Get bins for school size\n",
    "per_school_size"
   ]
  },
  {
   "cell_type": "code",
   "execution_count": null,
   "id": "ae818932",
   "metadata": {},
   "outputs": [],
   "source": [
    "per_school_size.describe()"
   ]
  },
  {
   "cell_type": "code",
   "execution_count": null,
   "id": "399f069f",
   "metadata": {},
   "outputs": [],
   "source": [
    "# set bins to Small, Medium, Large\n",
    "size_bins = [0, 1000, 2000, 5000]"
   ]
  },
  {
   "cell_type": "code",
   "execution_count": null,
   "id": "96a2f1b8",
   "metadata": {},
   "outputs": [],
   "source": [
    "per_school_size.groupby(pd.cut(per_school_size, size_bins)).count()"
   ]
  },
  {
   "cell_type": "code",
   "execution_count": null,
   "id": "4c0febc5",
   "metadata": {},
   "outputs": [],
   "source": [
    "# Set bin labels\n",
    "size_labels = ['< 1,000', '1,000-1,999', '2,000-5,000']"
   ]
  },
  {
   "cell_type": "code",
   "execution_count": null,
   "id": "df7f74eb",
   "metadata": {},
   "outputs": [],
   "source": [
    "per_school_df['Size Range'] = pd.cut(per_school_size, size_bins, labels = size_labels)\n",
    "per_school_df"
   ]
  },
  {
   "cell_type": "code",
   "execution_count": null,
   "id": "1d33923b",
   "metadata": {},
   "outputs": [],
   "source": [
    "# Calculate averages for the desired columns.\n",
    "size_math_scores = per_school_df.groupby([\"Size Range\"]).mean()[\"Average Math Score\"]\n",
    "\n",
    "size_reading_scores = per_school_df.groupby([\"Size Range\"]).mean()[\"Average Reading Score\"]\n",
    "\n",
    "size_passing_math = per_school_df.groupby([\"Size Range\"]).mean()[\"% Passing Math\"]\n",
    "\n",
    "size_passing_reading = per_school_df.groupby([\"Size Range\"]).mean()[\"% Passing Reading\"]\n",
    "\n",
    "overall_passing_size = per_school_df.groupby([\"Size Range\"]).mean()[\"% Overall Passing\"]"
   ]
  },
  {
   "cell_type": "code",
   "execution_count": null,
   "id": "67f81059",
   "metadata": {},
   "outputs": [],
   "source": [
    "# Assemble into DataFrame.\n",
    "size_summary_df = pd.DataFrame({\n",
    "          \"Average Math Score\" : size_math_scores,\n",
    "          \"Average Reading Score\": size_reading_scores,\n",
    "          \"% Passing Math\": size_passing_math,\n",
    "          \"% Passing Reading\": size_passing_reading,\n",
    "          \"% Overall Passing\": overall_passing_size})\n",
    "\n",
    "size_summary_df.dtypes"
   ]
  },
  {
   "cell_type": "code",
   "execution_count": null,
   "id": "2fc27881",
   "metadata": {},
   "outputs": [],
   "source": [
    "# Formatting\n",
    "size_summary_df[\"Average Math Score\"] = size_summary_df[\"Average Math Score\"].map(\"{:.1f}\".format)\n",
    "\n",
    "size_summary_df[\"Average Reading Score\"] = size_summary_df[\"Average Reading Score\"].map(\"{:.1f}\".format)\n",
    "\n",
    "size_summary_df[\"% Passing Math\"] = size_summary_df[\"% Passing Math\"].map(\"{:.0f}\".format)\n",
    "\n",
    "size_summary_df[\"% Passing Reading\"] = size_summary_df[\"% Passing Reading\"].map(\"{:.0f}\".format)\n",
    "\n",
    "size_summary_df[\"% Overall Passing\"] = size_summary_df[\"% Overall Passing\"].map(\"{:.0f}\".format)\n",
    "\n",
    "size_summary_df"
   ]
  },
  {
   "cell_type": "code",
   "execution_count": null,
   "id": "a10a1f1c",
   "metadata": {},
   "outputs": [],
   "source": [
    "# Create a new dataframe to hold the averages by school type\n",
    "type_summary_df = per_school_df.groupby(['School Type']).mean()\n",
    "type_summary_df"
   ]
  },
  {
   "cell_type": "code",
   "execution_count": null,
   "id": "df29aed7",
   "metadata": {},
   "outputs": [],
   "source": [
    "# Add Formatting\n",
    "# Formatting\n",
    "type_summary_df[\"Average Math Score\"] = type_summary_df[\"Average Math Score\"].map(\"{:.1f}\".format)\n",
    "\n",
    "type_summary_df[\"Average Reading Score\"] = type_summary_df[\"Average Reading Score\"].map(\"{:.1f}\".format)\n",
    "\n",
    "type_summary_df[\"% Passing Math\"] = type_summary_df[\"% Passing Math\"].map(\"{:.0f}\".format)\n",
    "\n",
    "type_summary_df[\"% Passing Reading\"] = type_summary_df[\"% Passing Reading\"].map(\"{:.0f}\".format)\n",
    "\n",
    "type_summary_df[\"% Overall Passing\"] = type_summary_df[\"% Overall Passing\"].map(\"{:.0f}\".format)\n",
    "\n",
    "type_summary_df"
   ]
  },
  {
   "cell_type": "code",
   "execution_count": null,
   "id": "2ab4d4bc",
   "metadata": {},
   "outputs": [],
   "source": []
  }
 ],
 "metadata": {
  "kernelspec": {
   "display_name": "PythonData",
   "language": "python",
   "name": "pythondata"
  },
  "language_info": {
   "codemirror_mode": {
    "name": "ipython",
    "version": 3
   },
   "file_extension": ".py",
   "mimetype": "text/x-python",
   "name": "python",
   "nbconvert_exporter": "python",
   "pygments_lexer": "ipython3",
   "version": "3.8.8"
  }
 },
 "nbformat": 4,
 "nbformat_minor": 5
}
